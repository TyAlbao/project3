{
 "cells": [
  {
   "cell_type": "code",
   "execution_count": 2,
   "metadata": {},
   "outputs": [],
   "source": [
    "import pandas as pd\n",
    "import json"
   ]
  },
  {
   "cell_type": "code",
   "execution_count": 22,
   "metadata": {},
   "outputs": [],
   "source": [
    "# Read the mouse data\n",
    "df = pd.read_csv('mouse_data.csv')\n",
    "\n",
    "# Split the data into the four groups\n",
    "femtemp = df.iloc[:, 0:13]\n",
    "femact = df.iloc[:, 13:26]\n",
    "maletemp = df.iloc[:, 26:39]\n",
    "maleact = df.iloc[:, 39:52]\n",
    "\n",
    "# Calculate averages per minute for each group\n",
    "minutes_per_day = 60 * 24\n",
    "days = len(df) // minutes_per_day\n",
    "\n",
    "avg_fem_act = femact.mean(axis=1).values.reshape(days, minutes_per_day).mean(axis=0)\n",
    "avg_fem_temp = femtemp.mean(axis=1).values.reshape(days, minutes_per_day).mean(axis=0)\n",
    "avg_male_temp = maletemp.mean(axis=1).values.reshape(days, minutes_per_day).mean(axis=0)\n",
    "avg_male_act = maleact.mean(axis=1).values.reshape(days, minutes_per_day).mean(axis=0)"
   ]
  },
  {
   "cell_type": "code",
   "execution_count": 23,
   "metadata": {},
   "outputs": [],
   "source": [
    "# Create the output dictionary\n",
    "output_data = {}\n",
    "\n",
    "# Process each minute\n",
    "for minute in range(minutes_per_day):\n",
    "    output_data[str(minute)] = {\n",
    "        \"female\": {\n",
    "            \"activity\": float(avg_fem_act[minute]),\n",
    "            \"temperature\": float(avg_fem_temp[minute])\n",
    "        },\n",
    "        \"male\": {\n",
    "            \"activity\": float(avg_male_act[minute]),\n",
    "            \"temperature\": float(avg_male_temp[minute])\n",
    "        }\n",
    "    }\n",
    "\n",
    "# Save to JSON file\n",
    "with open('mouse_data.json', 'w') as f:\n",
    "    json.dump(output_data, f, indent=2)"
   ]
  }
 ],
 "metadata": {
  "kernelspec": {
   "display_name": "Python 3",
   "language": "python",
   "name": "python3"
  },
  "language_info": {
   "codemirror_mode": {
    "name": "ipython",
    "version": 3
   },
   "file_extension": ".py",
   "mimetype": "text/x-python",
   "name": "python",
   "nbconvert_exporter": "python",
   "pygments_lexer": "ipython3",
   "version": "3.12.6"
  }
 },
 "nbformat": 4,
 "nbformat_minor": 2
}
